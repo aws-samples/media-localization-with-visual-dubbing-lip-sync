{
 "cells": [
  {
   "cell_type": "markdown",
   "id": "dd8d9eb9-894a-4448-b211-47a725cd83f2",
   "metadata": {},
   "source": [
    "## Finetune a Voice Cloning model with Tortoise-TTS on Amazon SageMaker\n",
    "This notebook contains the reference code for training your own Text-To-Speech (TTS) model using tortoise-tts model as the base. \n",
    "Tortoise-tts is a popular open source voice cloning model that demonstrates great results in generating strong multi-voice with highly realistic prosody and intonation. For more information about tortoise-tts, please refer to this [link](https://arxiv.org/pdf/2305.07243)\n",
    "\n",
    "In this notebook, we are going to train a custom voice model using Amazon SageMaker training job.\n",
    "\n",
    "The original code and processes of finetuning tortoise-tts model is derived from this [github repo](https://github.com/JarodMica/ai-voice-cloning). "
   ]
  },
  {
   "cell_type": "markdown",
   "id": "3168c2ad-338d-4951-abd7-73b193e28b0d",
   "metadata": {},
   "source": [
    "Let's first install all the dependencies"
   ]
  },
  {
   "cell_type": "code",
   "execution_count": null,
   "id": "c70d0102-bf0b-4499-a7d9-2901d2bac4c3",
   "metadata": {
    "tags": []
   },
   "outputs": [],
   "source": [
    "%pip install sagemaker boto3 -q"
   ]
  },
  {
   "cell_type": "code",
   "execution_count": null,
   "id": "8fdcb970-d488-475e-bf35-6e493d616a0d",
   "metadata": {
    "tags": []
   },
   "outputs": [],
   "source": [
    "import sagemaker\n",
    "import boto3\n",
    "from sagemaker.estimator import Estimator\n",
    "from sagemaker.local import LocalSession # uncomment this if you are testing locally\n",
    "from sagemaker import get_execution_role"
   ]
  },
  {
   "cell_type": "markdown",
   "id": "f1ed46e1-5024-40bd-9d3f-59960b4a7b38",
   "metadata": {},
   "source": [
    "Leverage an IAM that would allow SageMaker to access resources for the training job. "
   ]
  },
  {
   "cell_type": "code",
   "execution_count": null,
   "id": "036b0b33-e587-41a6-871f-5f6b09fe23ce",
   "metadata": {
    "tags": []
   },
   "outputs": [],
   "source": [
    "role = get_execution_role()\n",
    "session = sagemaker.Session()"
   ]
  },
  {
   "cell_type": "code",
   "execution_count": null,
   "id": "6165d673-2696-4d6e-b2f6-e90cb6c653c8",
   "metadata": {
    "tags": []
   },
   "outputs": [],
   "source": [
    "sm_training_s3_input_location= \"[S3 input location prefix]\" # e.g. \"s3://[your bucket]/data/visual-dubbing/training/input/\"\n",
    "sm_training_s3_model_location= \"[S3 output location prefix]\" # e.g. s3://[your bucket]/data/visual-dubbing/training/output/\""
   ]
  },
  {
   "cell_type": "code",
   "execution_count": null,
   "id": "4caabf19-f293-43b2-8625-40dba7db0f11",
   "metadata": {
    "tags": []
   },
   "outputs": [],
   "source": [
    "hyperparams = {\n",
    "                'yaml' : '/opt/ml/input/data/training/train.yaml' # the yaml file location. Keep the path as is, it'll resolve to the local directory in the container. \n",
    "              }"
   ]
  },
  {
   "cell_type": "code",
   "execution_count": null,
   "id": "9a70f9b1-1cd7-42a0-a7fb-22869b42e4f1",
   "metadata": {
    "tags": []
   },
   "outputs": [],
   "source": [
    "estimator = Estimator(\n",
    "    image_uri = \"[the ECR image URI for tortoise TTS]\" # \"[aws-account].dkr.ecr.[region].amazonaws.com/tortoise-tts-training\",\n",
    "    role=role,\n",
    "    instance_count=1,\n",
    "    instance_type = \"ml.g5.2xlarge\",\n",
    "    volume_size=225,\n",
    "    output_path=sm_training_s3_model_location,\n",
    "    sagemaker_session=session,\n",
    "    hyperparameters=hyperparams,\n",
    ")"
   ]
  },
  {
   "cell_type": "code",
   "execution_count": null,
   "id": "55fb0fd6-3778-4357-a26f-ada4fdddcf04",
   "metadata": {
    "tags": []
   },
   "outputs": [],
   "source": [
    "estimator.fit({'training': sm_training_s3_input_location})"
   ]
  }
 ],
 "metadata": {
  "kernelspec": {
   "display_name": "conda_pytorch_p310",
   "language": "python",
   "name": "conda_pytorch_p310"
  },
  "language_info": {
   "codemirror_mode": {
    "name": "ipython",
    "version": 3
   },
   "file_extension": ".py",
   "mimetype": "text/x-python",
   "name": "python",
   "nbconvert_exporter": "python",
   "pygments_lexer": "ipython3",
   "version": "3.10.14"
  }
 },
 "nbformat": 4,
 "nbformat_minor": 5
}
