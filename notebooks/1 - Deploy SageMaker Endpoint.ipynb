{
 "cells": [
  {
   "cell_type": "markdown",
   "metadata": {},
   "source": [
    "### Deploy SageMaker Endpoint\n",
    "This notebook deploys the text-to-speech (TTS) and retalking SageMaker endpoints.\n",
    "Note: This will create 2 x g5.xlarge instances and there will be costs incurred.\n",
    "\n",
    "The steps include:\n",
    "\n",
    "1. Create a bucket to upload TTS and retalking model files to\n",
    "2. Download and upload the TTS and retalking pretrained model files\n",
    "3. Deploy the TTS endpoint\n",
    "4. Build the Retalking endpoint container and deploy the retalking endpoint\n",
    "\n",
    "To build the retalking endpoint container:\n",
    "1. Ensure that you have a Elastic Container Registry (ECR) for the container in the same region to where you're deploying the endpoints\n",
    "2. Build the container for the retalking endpoint\n",
    "\n",
    "Navigate to src/retalking\n",
    "```\n",
    "docker build -f Dockerfile.retalking -t <account_id>.dkr.ecr.<region>.amazonaws.com/retalking:latest .\n",
    "```\n",
    "\n",
    "3. Push the container to ECR\n",
    "```\n",
    "aws ecr get-login-password --region <region> | docker login --username AWS --password-stdin <aws_account_id>.dkr.ecr.<region>.amazonaws.com\n",
    "docker push <account_id>.dkr.ecr.<region>.amazonaws.com/retalking:latest \n",
    "```\n",
    "\n",
    "4. Execute the following cells to deploy"
   ]
  },
  {
   "cell_type": "code",
   "execution_count": null,
   "metadata": {},
   "outputs": [],
   "source": [
    "\n",
    "import os\n",
    "import sys\n",
    "sys.path.append('../src')\n",
    "\n",
    "from utils import download_models\n",
    "\n",
    "from sagemaker import get_execution_role, image_uris\n",
    "from sagemaker.pytorch import PyTorchModel  \n",
    "from sagemaker import Model\n",
    "from sagemaker.serializers import JSONSerializer\n",
    "from sagemaker.deserializers import JSONDeserializer\n",
    "from sagemaker.async_inference import AsyncInferenceConfig\n",
    "\n",
    "from sagemaker.session import Session\n",
    "\n",
    "import boto3\n",
    "from botocore.exceptions import ClientError"
   ]
  },
  {
   "cell_type": "markdown",
   "metadata": {},
   "source": [
    "### Parameters\n",
    "Set the parameters below"
   ]
  },
  {
   "cell_type": "code",
   "execution_count": null,
   "metadata": {},
   "outputs": [],
   "source": [
    "# You must set these parameters\n",
    "\n",
    "# [REQUIRED] Set region for deployment\n",
    "region_name = \"<region>\"\n",
    "\n",
    "# [REQUIRED] Sagemaker bucket for model files, specify the bucket name\n",
    "sm_bucket_name = \"<bucket name>\"\n",
    "\n",
    "\n",
    "# [REQUIRED] Specify SageMaker Role to use for the endpoints\n",
    "# The role must have SageMakerFullAccess and S3 Read/Write access to your bucket to read/create files\n",
    "sagemaker_role_arn = \"arn:aws:iam::<account_id>:role/<Execution Role Name>\"\n",
    "\n",
    "# [REQUIRED] Create an ECR repo and put the URI here along with the image tag\n",
    "retalking_ecr_uri = '<account_id>.dkr.ecr.<region>.amazonaws.com/retalking:latest'\n",
    "\n",
    "\n",
    "# You can leave the following as is or change it\n",
    "\n",
    "# Prefix for model files to be uploaded to\n",
    "tts_model_prefix = \"tts/model\"\n",
    "retalking_model_prefix = \"retalking/model\"\n",
    "\n",
    "# Unique name for the TTS endpoint\n",
    "tts_model_name = \"tts-model\"\n",
    "tts_endpoint_name = \"tts-endpoint-async\"\n",
    "tts_instances_count = 1     # Increasing instance counts enable parallel generation of TTS\n",
    "\n",
    "# Retalking\n",
    "retalking_model_name = 'retalker-model'\n",
    "retalking_endpoint_name = \"retalking-endpoint-async\"\n",
    "retalking_instances_count = 1   # Increasing instance counts enable parallel retalking jobs"
   ]
  },
  {
   "cell_type": "markdown",
   "metadata": {},
   "source": [
    "### Pre-flight Checks"
   ]
  },
  {
   "cell_type": "code",
   "execution_count": null,
   "metadata": {},
   "outputs": [],
   "source": [
    "# Checks if bucket exist, if not creates it.\n",
    "s3_client = boto3.client('s3', region_name=region_name)\n",
    "\n",
    "try:\n",
    "    s3_client.head_bucket(Bucket=sm_bucket_name)\n",
    "    print(f\"Bucket '{sm_bucket_name}' already exists.\")\n",
    "except ClientError as e:\n",
    "    error_code = e.response['Error']['Code']\n",
    "    if error_code == '404':\n",
    "        location = {'LocationConstraint': region_name}\n",
    "        s3_client.create_bucket(Bucket=sm_bucket_name, CreateBucketConfiguration=location)\n",
    "        print(f\"Bucket '{sm_bucket_name}' created successfully.\")\n",
    "    else:\n",
    "        print(f\"Error occurred while checking bucket existence: {e}\")"
   ]
  },
  {
   "cell_type": "code",
   "execution_count": null,
   "metadata": {},
   "outputs": [],
   "source": [
    "# Check if ECR repository exists, if not, create the ECR repository\n",
    "ecr = boto3.client('ecr', region_name=region_name)\n",
    "\n",
    "try:\n",
    "    retalking_ecr_repo = retalking_ecr_uri.split(\":\")[0].split(\"/\")[-1]\n",
    "    response = ecr.describe_repositories(repositoryNames=[retalking_ecr_repo])\n",
    "    print(f\"Found {response['repositories'][0]['repositoryArn']}\")\n",
    "except ClientError as e:\n",
    "    if e.response['Error']['Code'] == 'RepositoryNotFoundException':\n",
    "        print(f\"Repository {retalking_ecr_repo} not found. Creating...\")\n",
    "        \n",
    "        try: \n",
    "            response = ecr.create_repository(repositoryName=retalking_ecr_repo)\n",
    "            print(\"Successfully created ECR. You must build and push the retalking container using the instructions above.\")\n",
    "        except ClientError as e:\n",
    "            print(\"Error creating repository\")\n",
    "            print(e)\n",
    "    else:\n",
    "        print(f\"Error in retrieving ECR repo {retalking_ecr_repo}\")"
   ]
  },
  {
   "cell_type": "markdown",
   "metadata": {},
   "source": [
    "### Download and prepare model files\n",
    "TortoiseTTS and Retalking contain pre-trained models that will be downloaded.\n",
    "Then model files (.tar.gz) are created for SageMaker use."
   ]
  },
  {
   "cell_type": "code",
   "execution_count": null,
   "metadata": {},
   "outputs": [],
   "source": [
    "# Download and prepare model files \n",
    "\n",
    "tts_dir = \"../src/tts\"\n",
    "tts_model_dir = \"../src/tts/model\"\n",
    "retalking_dir = \"../src/retalking\"\n",
    "retalking_checkpoints_dir = \"../src/retalking/code/checkpoints\"\n",
    "\n",
    "# Final outputs\n",
    "tts_model_file = \"../src/tts/archive/model-tts.tar.gz\"\n",
    "retalking_model_file = \"../src/retalking/archive/model-retalking.tar.gz\"\n",
    "\n",
    "download_models(tts_dir=tts_dir,\n",
    "                tts_model_dir=tts_model_dir, \n",
    "                retalking_dir=retalking_dir, \n",
    "                retalking_checkpoints_dir=retalking_checkpoints_dir,\n",
    "                tts_model_dest=tts_model_file,\n",
    "                retalking_model_dest=retalking_model_file,\n",
    "                create_archives=True,\n",
    "                override_archives=False)"
   ]
  },
  {
   "cell_type": "code",
   "execution_count": null,
   "metadata": {},
   "outputs": [],
   "source": [
    "#Upload models\n",
    "s3_client.upload_file(tts_model_file, sm_bucket_name, f\"{tts_model_prefix}/model-tts.tar.gz\")\n",
    "s3_client.upload_file(retalking_model_file, sm_bucket_name, f\"{retalking_model_prefix}/model-retalking.tar.gz\")"
   ]
  },
  {
   "cell_type": "markdown",
   "metadata": {},
   "source": [
    "#### Deploys TortoiseTTS Endpoint"
   ]
  },
  {
   "cell_type": "code",
   "execution_count": null,
   "metadata": {},
   "outputs": [],
   "source": [
    "# Model code and model paths\n",
    "tts_source_dir = f\"{os.path.abspath(tts_dir)}/code\"\n",
    "tts_model_data = f\"s3://{sm_bucket_name}/{tts_model_prefix}/model-tts.tar.gz\"\n",
    "\n",
    "print(tts_source_dir)\n",
    "print(tts_model_data)"
   ]
  },
  {
   "cell_type": "code",
   "execution_count": null,
   "metadata": {},
   "outputs": [],
   "source": [
    "# Retrieve the container image required for the TTS endpoint\n",
    "image_uri = image_uris.retrieve(\n",
    "    framework=\"pytorch\",\n",
    "    version=\"2.1\",\n",
    "    py_version=\"py310\",\n",
    "    instance_type=\"ml.g5.xlarge\",\n",
    "    region=region_name,\n",
    "    image_scope=\"inference\"\n",
    ")\n",
    "\n",
    "print(image_uri)"
   ]
  },
  {
   "cell_type": "code",
   "execution_count": null,
   "metadata": {},
   "outputs": [],
   "source": [
    "# Create the model, endpoint configuration, and deploys the endpoint\n",
    "\n",
    "async_config = AsyncInferenceConfig()\n",
    "model = Model(\n",
    "    image_uri=image_uri,\n",
    "    model_data=tts_model_data,\n",
    "    role=sagemaker_role_arn,\n",
    "    env={'SAGEMAKER_TS_RESPONSE_TIMEOUT': '900'},\n",
    "    name=tts_model_name\n",
    ")\n",
    "\n",
    "predictor = model.deploy(initial_instance_count=tts_instances_count,\n",
    "                         instance_type='ml.g5.xlarge',\n",
    "                         endpoint_name=tts_endpoint_name,\n",
    "                         serializer=JSONSerializer(),\n",
    "                         deserializer=JSONDeserializer(),\n",
    "                         async_inference_config=async_config,\n",
    "                         model_data_download_timeout=1800,\n",
    "                         wait=False)"
   ]
  },
  {
   "cell_type": "markdown",
   "metadata": {},
   "source": [
    "#### Deploy Retalking Endpoint"
   ]
  },
  {
   "cell_type": "code",
   "execution_count": null,
   "metadata": {},
   "outputs": [],
   "source": [
    "# Creates the model, endpoint configuration, and deploys the endpoint\n",
    "\n",
    "retalking_model_data = f\"s3://{sm_bucket_name}/{retalking_model_prefix}/model-retalking.tar.gz\"\n",
    "\n",
    "retalker_async_config = AsyncInferenceConfig()\n",
    "model = Model(\n",
    "    image_uri=retalking_ecr_uri,\n",
    "    model_data=retalking_model_data,\n",
    "    role=sagemaker_role_arn,\n",
    "    env={'SAGEMAKER_TS_RESPONSE_TIMEOUT': '900', \n",
    "         \"TS_DEFAULT_RESPONSE_TIMEOUT\": \"1000\",\n",
    "         \"MMS_DEFAULT_RESPONSE_TIMEOUT\": \"900\"},\n",
    "    name=retalking_model_name,\n",
    ")\n",
    "\n",
    "retalking_predictor = model.deploy(initial_instance_count=retalking_instances_count,\n",
    "                         instance_type='ml.g5.xlarge',\n",
    "                         endpoint_name=retalking_endpoint_name,\n",
    "                         serializer=JSONSerializer(),\n",
    "                         deserializer=JSONDeserializer(),\n",
    "                         async_inference_config=retalker_async_config,\n",
    "                         model_data_download_timeout=1800,\n",
    "                         container_startup_health_check_timeout=1800,\n",
    "                         env={'SAGEMAKER_TS_RESPONSE_TIMEOUT': '900', \n",
    "                                \"TS_DEFAULT_RESPONSE_TIMEOUT\": \"1000\",\n",
    "                                \"MMS_DEFAULT_RESPONSE_TIMEOUT\": \"900\"},\n",
    "                         wait=False)"
   ]
  },
  {
   "cell_type": "markdown",
   "metadata": {},
   "source": [
    "### Cleanup Endpoints\n",
    "\n",
    "Delete the endpoints after you're done. Make sure to delete any buckets or roles created.\n"
   ]
  },
  {
   "cell_type": "code",
   "execution_count": null,
   "metadata": {},
   "outputs": [],
   "source": [
    "predictor.delete_endpoint()\n",
    "retalking_predictor.delete_endpoint()"
   ]
  }
 ],
 "metadata": {
  "kernelspec": {
   "display_name": "visual-dubbing-lipsync-pipeline",
   "language": "python",
   "name": "python3"
  },
  "language_info": {
   "codemirror_mode": {
    "name": "ipython",
    "version": 3
   },
   "file_extension": ".py",
   "mimetype": "text/x-python",
   "name": "python",
   "nbconvert_exporter": "python",
   "pygments_lexer": "ipython3",
   "version": "3.11.9"
  }
 },
 "nbformat": 4,
 "nbformat_minor": 2
}
